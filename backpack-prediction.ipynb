{
 "cells": [
  {
   "cell_type": "code",
   "execution_count": 1,
   "id": "4123ea0b",
   "metadata": {
    "_cell_guid": "b1076dfc-b9ad-4769-8c92-a6c4dae69d19",
    "_uuid": "8f2839f25d086af736a60e9eeb907d3b93b6e0e5",
    "execution": {
     "iopub.execute_input": "2025-02-18T21:31:54.241082Z",
     "iopub.status.busy": "2025-02-18T21:31:54.240726Z",
     "iopub.status.idle": "2025-02-18T21:31:54.972155Z",
     "shell.execute_reply": "2025-02-18T21:31:54.971046Z"
    },
    "papermill": {
     "duration": 0.737396,
     "end_time": "2025-02-18T21:31:54.973503",
     "exception": false,
     "start_time": "2025-02-18T21:31:54.236107",
     "status": "completed"
    },
    "tags": []
   },
   "outputs": [
    {
     "name": "stdout",
     "output_type": "stream",
     "text": [
      "/kaggle/input/playground-series-s5e2/sample_submission.csv\n",
      "/kaggle/input/playground-series-s5e2/train.csv\n",
      "/kaggle/input/playground-series-s5e2/test.csv\n",
      "/kaggle/input/playground-series-s5e2/training_extra.csv\n"
     ]
    }
   ],
   "source": [
    "# This Python 3 environment comes with many helpful analytics libraries installed\n",
    "# It is defined by the kaggle/python Docker image: https://github.com/kaggle/docker-python\n",
    "# For example, here's several helpful packages to load\n",
    "\n",
    "import numpy as np # linear algebra\n",
    "import pandas as pd # data processing, CSV file I/O (e.g. pd.read_csv)\n",
    "\n",
    "# Input data files are available in the read-only \"../input/\" directory\n",
    "# For example, running this (by clicking run or pressing Shift+Enter) will list all files under the input directory\n",
    "\n",
    "import os\n",
    "for dirname, _, filenames in os.walk('/kaggle/input'):\n",
    "    for filename in filenames:\n",
    "        print(os.path.join(dirname, filename))\n",
    "\n",
    "# You can write up to 20GB to the current directory (/kaggle/working/) that gets preserved as output when you create a version using \"Save & Run All\" \n",
    "# You can also write temporary files to /kaggle/temp/, but they won't be saved outside of the current session"
   ]
  },
  {
   "cell_type": "code",
   "execution_count": 2,
   "id": "deb070e8",
   "metadata": {
    "execution": {
     "iopub.execute_input": "2025-02-18T21:31:54.980669Z",
     "iopub.status.busy": "2025-02-18T21:31:54.980326Z",
     "iopub.status.idle": "2025-02-18T21:31:55.630248Z",
     "shell.execute_reply": "2025-02-18T21:31:55.629365Z"
    },
    "papermill": {
     "duration": 0.654777,
     "end_time": "2025-02-18T21:31:55.631618",
     "exception": false,
     "start_time": "2025-02-18T21:31:54.976841",
     "status": "completed"
    },
    "tags": []
   },
   "outputs": [
    {
     "data": {
      "text/html": [
       "<div>\n",
       "<style scoped>\n",
       "    .dataframe tbody tr th:only-of-type {\n",
       "        vertical-align: middle;\n",
       "    }\n",
       "\n",
       "    .dataframe tbody tr th {\n",
       "        vertical-align: top;\n",
       "    }\n",
       "\n",
       "    .dataframe thead th {\n",
       "        text-align: right;\n",
       "    }\n",
       "</style>\n",
       "<table border=\"1\" class=\"dataframe\">\n",
       "  <thead>\n",
       "    <tr style=\"text-align: right;\">\n",
       "      <th></th>\n",
       "      <th>Brand</th>\n",
       "      <th>Material</th>\n",
       "      <th>Size</th>\n",
       "      <th>Compartments</th>\n",
       "      <th>Laptop Compartment</th>\n",
       "      <th>Waterproof</th>\n",
       "      <th>Style</th>\n",
       "      <th>Color</th>\n",
       "      <th>Weight Capacity (kg)</th>\n",
       "      <th>Price</th>\n",
       "    </tr>\n",
       "  </thead>\n",
       "  <tbody>\n",
       "    <tr>\n",
       "      <th>0</th>\n",
       "      <td>Jansport</td>\n",
       "      <td>Leather</td>\n",
       "      <td>Medium</td>\n",
       "      <td>7.0</td>\n",
       "      <td>Yes</td>\n",
       "      <td>No</td>\n",
       "      <td>Tote</td>\n",
       "      <td>Black</td>\n",
       "      <td>11.611723</td>\n",
       "      <td>112.15875</td>\n",
       "    </tr>\n",
       "    <tr>\n",
       "      <th>1</th>\n",
       "      <td>Jansport</td>\n",
       "      <td>Canvas</td>\n",
       "      <td>Small</td>\n",
       "      <td>10.0</td>\n",
       "      <td>Yes</td>\n",
       "      <td>Yes</td>\n",
       "      <td>Messenger</td>\n",
       "      <td>Green</td>\n",
       "      <td>27.078537</td>\n",
       "      <td>68.88056</td>\n",
       "    </tr>\n",
       "    <tr>\n",
       "      <th>2</th>\n",
       "      <td>Under Armour</td>\n",
       "      <td>Leather</td>\n",
       "      <td>Small</td>\n",
       "      <td>2.0</td>\n",
       "      <td>Yes</td>\n",
       "      <td>No</td>\n",
       "      <td>Messenger</td>\n",
       "      <td>Red</td>\n",
       "      <td>16.643760</td>\n",
       "      <td>39.17320</td>\n",
       "    </tr>\n",
       "    <tr>\n",
       "      <th>3</th>\n",
       "      <td>Nike</td>\n",
       "      <td>Nylon</td>\n",
       "      <td>Small</td>\n",
       "      <td>8.0</td>\n",
       "      <td>Yes</td>\n",
       "      <td>No</td>\n",
       "      <td>Messenger</td>\n",
       "      <td>Green</td>\n",
       "      <td>12.937220</td>\n",
       "      <td>80.60793</td>\n",
       "    </tr>\n",
       "    <tr>\n",
       "      <th>4</th>\n",
       "      <td>Adidas</td>\n",
       "      <td>Canvas</td>\n",
       "      <td>Medium</td>\n",
       "      <td>1.0</td>\n",
       "      <td>Yes</td>\n",
       "      <td>Yes</td>\n",
       "      <td>Messenger</td>\n",
       "      <td>Green</td>\n",
       "      <td>17.749338</td>\n",
       "      <td>86.02312</td>\n",
       "    </tr>\n",
       "  </tbody>\n",
       "</table>\n",
       "</div>"
      ],
      "text/plain": [
       "          Brand Material    Size  Compartments Laptop Compartment Waterproof  \\\n",
       "0      Jansport  Leather  Medium           7.0                Yes         No   \n",
       "1      Jansport   Canvas   Small          10.0                Yes        Yes   \n",
       "2  Under Armour  Leather   Small           2.0                Yes         No   \n",
       "3          Nike    Nylon   Small           8.0                Yes         No   \n",
       "4        Adidas   Canvas  Medium           1.0                Yes        Yes   \n",
       "\n",
       "       Style  Color  Weight Capacity (kg)      Price  \n",
       "0       Tote  Black             11.611723  112.15875  \n",
       "1  Messenger  Green             27.078537   68.88056  \n",
       "2  Messenger    Red             16.643760   39.17320  \n",
       "3  Messenger  Green             12.937220   80.60793  \n",
       "4  Messenger  Green             17.749338   86.02312  "
      ]
     },
     "execution_count": 2,
     "metadata": {},
     "output_type": "execute_result"
    }
   ],
   "source": [
    "train_df = pd.read_csv('/kaggle/input/playground-series-s5e2/train.csv')\n",
    "train_df = train_df.drop('id', axis =1)\n",
    "train_df.head()\n"
   ]
  },
  {
   "cell_type": "code",
   "execution_count": 3,
   "id": "52af0661",
   "metadata": {
    "execution": {
     "iopub.execute_input": "2025-02-18T21:31:55.639069Z",
     "iopub.status.busy": "2025-02-18T21:31:55.638779Z",
     "iopub.status.idle": "2025-02-18T21:31:55.691195Z",
     "shell.execute_reply": "2025-02-18T21:31:55.690311Z"
    },
    "papermill": {
     "duration": 0.057388,
     "end_time": "2025-02-18T21:31:55.692526",
     "exception": false,
     "start_time": "2025-02-18T21:31:55.635138",
     "status": "completed"
    },
    "tags": []
   },
   "outputs": [
    {
     "data": {
      "text/html": [
       "<div>\n",
       "<style scoped>\n",
       "    .dataframe tbody tr th:only-of-type {\n",
       "        vertical-align: middle;\n",
       "    }\n",
       "\n",
       "    .dataframe tbody tr th {\n",
       "        vertical-align: top;\n",
       "    }\n",
       "\n",
       "    .dataframe thead th {\n",
       "        text-align: right;\n",
       "    }\n",
       "</style>\n",
       "<table border=\"1\" class=\"dataframe\">\n",
       "  <thead>\n",
       "    <tr style=\"text-align: right;\">\n",
       "      <th></th>\n",
       "      <th>Compartments</th>\n",
       "      <th>Weight Capacity (kg)</th>\n",
       "      <th>Price</th>\n",
       "    </tr>\n",
       "  </thead>\n",
       "  <tbody>\n",
       "    <tr>\n",
       "      <th>count</th>\n",
       "      <td>300000.000000</td>\n",
       "      <td>299862.000000</td>\n",
       "      <td>300000.000000</td>\n",
       "    </tr>\n",
       "    <tr>\n",
       "      <th>mean</th>\n",
       "      <td>5.443590</td>\n",
       "      <td>18.029994</td>\n",
       "      <td>81.411107</td>\n",
       "    </tr>\n",
       "    <tr>\n",
       "      <th>std</th>\n",
       "      <td>2.890766</td>\n",
       "      <td>6.966914</td>\n",
       "      <td>39.039340</td>\n",
       "    </tr>\n",
       "    <tr>\n",
       "      <th>min</th>\n",
       "      <td>1.000000</td>\n",
       "      <td>5.000000</td>\n",
       "      <td>15.000000</td>\n",
       "    </tr>\n",
       "    <tr>\n",
       "      <th>25%</th>\n",
       "      <td>3.000000</td>\n",
       "      <td>12.097867</td>\n",
       "      <td>47.384620</td>\n",
       "    </tr>\n",
       "    <tr>\n",
       "      <th>50%</th>\n",
       "      <td>5.000000</td>\n",
       "      <td>18.068614</td>\n",
       "      <td>80.956120</td>\n",
       "    </tr>\n",
       "    <tr>\n",
       "      <th>75%</th>\n",
       "      <td>8.000000</td>\n",
       "      <td>24.002375</td>\n",
       "      <td>115.018160</td>\n",
       "    </tr>\n",
       "    <tr>\n",
       "      <th>max</th>\n",
       "      <td>10.000000</td>\n",
       "      <td>30.000000</td>\n",
       "      <td>150.000000</td>\n",
       "    </tr>\n",
       "  </tbody>\n",
       "</table>\n",
       "</div>"
      ],
      "text/plain": [
       "        Compartments  Weight Capacity (kg)          Price\n",
       "count  300000.000000         299862.000000  300000.000000\n",
       "mean        5.443590             18.029994      81.411107\n",
       "std         2.890766              6.966914      39.039340\n",
       "min         1.000000              5.000000      15.000000\n",
       "25%         3.000000             12.097867      47.384620\n",
       "50%         5.000000             18.068614      80.956120\n",
       "75%         8.000000             24.002375     115.018160\n",
       "max        10.000000             30.000000     150.000000"
      ]
     },
     "execution_count": 3,
     "metadata": {},
     "output_type": "execute_result"
    }
   ],
   "source": [
    "#describe the dataset to get a cursory look at the data\n",
    "train_df.describe()\n"
   ]
  },
  {
   "cell_type": "code",
   "execution_count": 4,
   "id": "dee481c8",
   "metadata": {
    "execution": {
     "iopub.execute_input": "2025-02-18T21:31:55.700324Z",
     "iopub.status.busy": "2025-02-18T21:31:55.700073Z",
     "iopub.status.idle": "2025-02-18T21:31:55.933991Z",
     "shell.execute_reply": "2025-02-18T21:31:55.933125Z"
    },
    "papermill": {
     "duration": 0.239265,
     "end_time": "2025-02-18T21:31:55.935357",
     "exception": false,
     "start_time": "2025-02-18T21:31:55.696092",
     "status": "completed"
    },
    "tags": []
   },
   "outputs": [
    {
     "data": {
      "text/html": [
       "<div>\n",
       "<style scoped>\n",
       "    .dataframe tbody tr th:only-of-type {\n",
       "        vertical-align: middle;\n",
       "    }\n",
       "\n",
       "    .dataframe tbody tr th {\n",
       "        vertical-align: top;\n",
       "    }\n",
       "\n",
       "    .dataframe thead th {\n",
       "        text-align: right;\n",
       "    }\n",
       "</style>\n",
       "<table border=\"1\" class=\"dataframe\">\n",
       "  <thead>\n",
       "    <tr style=\"text-align: right;\">\n",
       "      <th></th>\n",
       "      <th>Brand</th>\n",
       "      <th>Material</th>\n",
       "      <th>Size</th>\n",
       "      <th>Laptop Compartment</th>\n",
       "      <th>Waterproof</th>\n",
       "      <th>Style</th>\n",
       "      <th>Color</th>\n",
       "    </tr>\n",
       "  </thead>\n",
       "  <tbody>\n",
       "    <tr>\n",
       "      <th>count</th>\n",
       "      <td>290295</td>\n",
       "      <td>291653</td>\n",
       "      <td>293405</td>\n",
       "      <td>292556</td>\n",
       "      <td>292950</td>\n",
       "      <td>292030</td>\n",
       "      <td>290050</td>\n",
       "    </tr>\n",
       "    <tr>\n",
       "      <th>unique</th>\n",
       "      <td>5</td>\n",
       "      <td>4</td>\n",
       "      <td>3</td>\n",
       "      <td>2</td>\n",
       "      <td>2</td>\n",
       "      <td>3</td>\n",
       "      <td>6</td>\n",
       "    </tr>\n",
       "    <tr>\n",
       "      <th>top</th>\n",
       "      <td>Adidas</td>\n",
       "      <td>Polyester</td>\n",
       "      <td>Medium</td>\n",
       "      <td>Yes</td>\n",
       "      <td>Yes</td>\n",
       "      <td>Messenger</td>\n",
       "      <td>Pink</td>\n",
       "    </tr>\n",
       "    <tr>\n",
       "      <th>freq</th>\n",
       "      <td>60077</td>\n",
       "      <td>79630</td>\n",
       "      <td>101906</td>\n",
       "      <td>148342</td>\n",
       "      <td>148077</td>\n",
       "      <td>100031</td>\n",
       "      <td>51690</td>\n",
       "    </tr>\n",
       "  </tbody>\n",
       "</table>\n",
       "</div>"
      ],
      "text/plain": [
       "         Brand   Material    Size Laptop Compartment Waterproof      Style  \\\n",
       "count   290295     291653  293405             292556     292950     292030   \n",
       "unique       5          4       3                  2          2          3   \n",
       "top     Adidas  Polyester  Medium                Yes        Yes  Messenger   \n",
       "freq     60077      79630  101906             148342     148077     100031   \n",
       "\n",
       "         Color  \n",
       "count   290050  \n",
       "unique       6  \n",
       "top       Pink  \n",
       "freq     51690  "
      ]
     },
     "execution_count": 4,
     "metadata": {},
     "output_type": "execute_result"
    }
   ],
   "source": [
    "#descriptions for the categorical values in the dataset\n",
    "train_df.describe(exclude = np.number)"
   ]
  },
  {
   "cell_type": "code",
   "execution_count": 5,
   "id": "8fe1625d",
   "metadata": {
    "execution": {
     "iopub.execute_input": "2025-02-18T21:31:55.943160Z",
     "iopub.status.busy": "2025-02-18T21:31:55.942926Z",
     "iopub.status.idle": "2025-02-18T21:31:55.947240Z",
     "shell.execute_reply": "2025-02-18T21:31:55.946439Z"
    },
    "papermill": {
     "duration": 0.00936,
     "end_time": "2025-02-18T21:31:55.948398",
     "exception": false,
     "start_time": "2025-02-18T21:31:55.939038",
     "status": "completed"
    },
    "tags": []
   },
   "outputs": [
    {
     "name": "stdout",
     "output_type": "stream",
     "text": [
      "The features are: \n",
      "['Brand' 'Material' 'Size' 'Compartments' 'Laptop Compartment'\n",
      " 'Waterproof' 'Style' 'Color' 'Weight Capacity (kg)']\n"
     ]
    }
   ],
   "source": [
    "features = np.array(train_df.columns[:-1])\n",
    "print(f'The features are: \\n'\n",
    "        f'{features}')"
   ]
  },
  {
   "cell_type": "code",
   "execution_count": 6,
   "id": "2fc3e96d",
   "metadata": {
    "execution": {
     "iopub.execute_input": "2025-02-18T21:31:55.955928Z",
     "iopub.status.busy": "2025-02-18T21:31:55.955678Z",
     "iopub.status.idle": "2025-02-18T21:31:55.978503Z",
     "shell.execute_reply": "2025-02-18T21:31:55.977699Z"
    },
    "papermill": {
     "duration": 0.028139,
     "end_time": "2025-02-18T21:31:55.979917",
     "exception": false,
     "start_time": "2025-02-18T21:31:55.951778",
     "status": "completed"
    },
    "tags": []
   },
   "outputs": [
    {
     "name": "stdout",
     "output_type": "stream",
     "text": [
      "['Tote' 'Messenger' nan 'Backpack']\n",
      "['Medium' 'Small' 'Large' nan]\n"
     ]
    }
   ],
   "source": [
    "#We see that some features do not have quantitative values but instead\n",
    "#have categorical values like whether it has a laptop bag or not, \n",
    "#whether the bag is waterproof or not and what size the bag is.\n",
    "#Let's check how many distinct values exist for these features\n",
    "\n",
    "distinct_style = train_df['Style'].unique()\n",
    "print(distinct_style) # Output: ['Tote' 'Messenger' nan 'Backpack']\n",
    "\n",
    "distinct_sizes = train_df['Size'].unique()\n",
    "print(distinct_sizes)"
   ]
  },
  {
   "cell_type": "code",
   "execution_count": 7,
   "id": "8c9794be",
   "metadata": {
    "execution": {
     "iopub.execute_input": "2025-02-18T21:31:55.987382Z",
     "iopub.status.busy": "2025-02-18T21:31:55.987179Z",
     "iopub.status.idle": "2025-02-18T21:31:56.003369Z",
     "shell.execute_reply": "2025-02-18T21:31:56.002586Z"
    },
    "papermill": {
     "duration": 0.021232,
     "end_time": "2025-02-18T21:31:56.004622",
     "exception": false,
     "start_time": "2025-02-18T21:31:55.983390",
     "status": "completed"
    },
    "tags": []
   },
   "outputs": [
    {
     "name": "stdout",
     "output_type": "stream",
     "text": [
      "(300000, 9)\n",
      "(300000, 1)\n",
      "Brand                    object\n",
      "Material                 object\n",
      "Size                     object\n",
      "Compartments            float64\n",
      "Laptop Compartment       object\n",
      "Waterproof               object\n",
      "Style                    object\n",
      "Color                    object\n",
      "Weight Capacity (kg)    float64\n",
      "dtype: object\n"
     ]
    }
   ],
   "source": [
    "#isolate the data matrix\n",
    "X = train_df[features]\n",
    "#print(X)\n",
    "print(X.shape)\n",
    "\n",
    "#isolate the target variables\n",
    "y = train_df['Price']\n",
    "y = np.reshape(y, (len(y),1))\n",
    "#print(y)\n",
    "print(y.shape)\n",
    "\n",
    "print(X.dtypes)"
   ]
  },
  {
   "cell_type": "code",
   "execution_count": 8,
   "id": "5363004d",
   "metadata": {
    "execution": {
     "iopub.execute_input": "2025-02-18T21:31:56.012360Z",
     "iopub.status.busy": "2025-02-18T21:31:56.012119Z",
     "iopub.status.idle": "2025-02-18T21:31:56.178009Z",
     "shell.execute_reply": "2025-02-18T21:31:56.176878Z"
    },
    "papermill": {
     "duration": 0.171353,
     "end_time": "2025-02-18T21:31:56.179608",
     "exception": false,
     "start_time": "2025-02-18T21:31:56.008255",
     "status": "completed"
    },
    "tags": []
   },
   "outputs": [
    {
     "name": "stdout",
     "output_type": "stream",
     "text": [
      "['Brand', 'Material', 'Size', 'Laptop Compartment', 'Waterproof', 'Style', 'Color']\n",
      "Brand                   category\n",
      "Material                category\n",
      "Size                    category\n",
      "Compartments             float64\n",
      "Laptop Compartment      category\n",
      "Waterproof              category\n",
      "Style                   category\n",
      "Color                   category\n",
      "Weight Capacity (kg)     float64\n",
      "dtype: object\n"
     ]
    },
    {
     "name": "stderr",
     "output_type": "stream",
     "text": [
      "<ipython-input-8-15e0251dc8fb>:7: SettingWithCopyWarning: \n",
      "A value is trying to be set on a copy of a slice from a DataFrame.\n",
      "Try using .loc[row_indexer,col_indexer] = value instead\n",
      "\n",
      "See the caveats in the documentation: https://pandas.pydata.org/pandas-docs/stable/user_guide/indexing.html#returning-a-view-versus-a-copy\n",
      "  X[col] = X[col].astype('category')\n",
      "<ipython-input-8-15e0251dc8fb>:7: SettingWithCopyWarning: \n",
      "A value is trying to be set on a copy of a slice from a DataFrame.\n",
      "Try using .loc[row_indexer,col_indexer] = value instead\n",
      "\n",
      "See the caveats in the documentation: https://pandas.pydata.org/pandas-docs/stable/user_guide/indexing.html#returning-a-view-versus-a-copy\n",
      "  X[col] = X[col].astype('category')\n",
      "<ipython-input-8-15e0251dc8fb>:7: SettingWithCopyWarning: \n",
      "A value is trying to be set on a copy of a slice from a DataFrame.\n",
      "Try using .loc[row_indexer,col_indexer] = value instead\n",
      "\n",
      "See the caveats in the documentation: https://pandas.pydata.org/pandas-docs/stable/user_guide/indexing.html#returning-a-view-versus-a-copy\n",
      "  X[col] = X[col].astype('category')\n",
      "<ipython-input-8-15e0251dc8fb>:7: SettingWithCopyWarning: \n",
      "A value is trying to be set on a copy of a slice from a DataFrame.\n",
      "Try using .loc[row_indexer,col_indexer] = value instead\n",
      "\n",
      "See the caveats in the documentation: https://pandas.pydata.org/pandas-docs/stable/user_guide/indexing.html#returning-a-view-versus-a-copy\n",
      "  X[col] = X[col].astype('category')\n",
      "<ipython-input-8-15e0251dc8fb>:7: SettingWithCopyWarning: \n",
      "A value is trying to be set on a copy of a slice from a DataFrame.\n",
      "Try using .loc[row_indexer,col_indexer] = value instead\n",
      "\n",
      "See the caveats in the documentation: https://pandas.pydata.org/pandas-docs/stable/user_guide/indexing.html#returning-a-view-versus-a-copy\n",
      "  X[col] = X[col].astype('category')\n",
      "<ipython-input-8-15e0251dc8fb>:7: SettingWithCopyWarning: \n",
      "A value is trying to be set on a copy of a slice from a DataFrame.\n",
      "Try using .loc[row_indexer,col_indexer] = value instead\n",
      "\n",
      "See the caveats in the documentation: https://pandas.pydata.org/pandas-docs/stable/user_guide/indexing.html#returning-a-view-versus-a-copy\n",
      "  X[col] = X[col].astype('category')\n",
      "<ipython-input-8-15e0251dc8fb>:7: SettingWithCopyWarning: \n",
      "A value is trying to be set on a copy of a slice from a DataFrame.\n",
      "Try using .loc[row_indexer,col_indexer] = value instead\n",
      "\n",
      "See the caveats in the documentation: https://pandas.pydata.org/pandas-docs/stable/user_guide/indexing.html#returning-a-view-versus-a-copy\n",
      "  X[col] = X[col].astype('category')\n"
     ]
    }
   ],
   "source": [
    "# Extract text features\n",
    "cats = X.select_dtypes(exclude=np.number).columns.tolist()\n",
    "print(cats)\n",
    "\n",
    "# Convert to Pandas category for xgboost to deal with\n",
    "for col in cats:\n",
    "   X[col] = X[col].astype('category')\n",
    "\n",
    "print(X.dtypes)"
   ]
  },
  {
   "cell_type": "code",
   "execution_count": 9,
   "id": "43ec0053",
   "metadata": {
    "execution": {
     "iopub.execute_input": "2025-02-18T21:31:56.188126Z",
     "iopub.status.busy": "2025-02-18T21:31:56.187898Z",
     "iopub.status.idle": "2025-02-18T21:31:57.766394Z",
     "shell.execute_reply": "2025-02-18T21:31:57.765613Z"
    },
    "papermill": {
     "duration": 1.584714,
     "end_time": "2025-02-18T21:31:57.768359",
     "exception": false,
     "start_time": "2025-02-18T21:31:56.183645",
     "status": "completed"
    },
    "tags": []
   },
   "outputs": [],
   "source": [
    "#Let's try to run a quick boosted decision tree model\n",
    "#we implement this because the xgboost model can handle the\n",
    "#categorical values and enables us to get results without\n",
    "#encoding the categorical values\n",
    "\n",
    "from sklearn.model_selection import train_test_split\n",
    "\n",
    "# Split the data\n",
    "X_train, X_test, y_train, y_test = train_test_split(X, y, random_state=1)\n",
    "\n",
    "import xgboost as xgb\n",
    "\n",
    "# Create regression matrices\n",
    "btrain_reg = xgb.DMatrix(X_train, y_train, enable_categorical=True)\n",
    "btest_reg = xgb.DMatrix(X_test, y_test, enable_categorical=True)\n"
   ]
  },
  {
   "cell_type": "code",
   "execution_count": 10,
   "id": "3da35e28",
   "metadata": {
    "execution": {
     "iopub.execute_input": "2025-02-18T21:31:57.779597Z",
     "iopub.status.busy": "2025-02-18T21:31:57.779174Z",
     "iopub.status.idle": "2025-02-18T21:31:58.534142Z",
     "shell.execute_reply": "2025-02-18T21:31:58.533341Z"
    },
    "papermill": {
     "duration": 0.762361,
     "end_time": "2025-02-18T21:31:58.535875",
     "exception": false,
     "start_time": "2025-02-18T21:31:57.773514",
     "status": "completed"
    },
    "tags": []
   },
   "outputs": [
    {
     "name": "stdout",
     "output_type": "stream",
     "text": [
      "[0]\ttrain-rmse:39.02440\tvalidation-rmse:39.05516\n",
      "[5]\ttrain-rmse:38.98817\tvalidation-rmse:39.03805\n",
      "[10]\ttrain-rmse:38.96272\tvalidation-rmse:39.03372\n",
      "[15]\ttrain-rmse:38.93775\tvalidation-rmse:39.02903\n",
      "[20]\ttrain-rmse:38.91723\tvalidation-rmse:39.02983\n",
      "[25]\ttrain-rmse:38.89752\tvalidation-rmse:39.02828\n",
      "[30]\ttrain-rmse:38.87765\tvalidation-rmse:39.02797\n",
      "[35]\ttrain-rmse:38.85812\tvalidation-rmse:39.02883\n",
      "[39]\ttrain-rmse:38.84261\tvalidation-rmse:39.03221\n"
     ]
    }
   ],
   "source": [
    "## Training\n",
    "\n",
    "# Define hyperparameters\n",
    "params = {\"objective\": \"reg:squarederror\",\n",
    "          \"tree_method\": \"hist\", \n",
    "          'device': 'cuda',\n",
    "         \"max_depth\": 6,                   # Maximum depth of a tree\n",
    "        \"learning_rate\": 0.1,             # Step size shrinkage\n",
    "        \"gamma\": 0,                       # Minimum loss reduction required to make a further partition on a leaf node of the tree\n",
    "        \"subsample\": 0.8,                 # Subsample ratio of the training instances\n",
    "        \"colsample_bytree\": 0.8,          # Subsample ratio of columns when constructing each tree\n",
    "        \"nthread\": 4}                     # Number of parallel threads used to run XGBoost\n",
    "   \n",
    "evals = [(btrain_reg, \"train\"), (btest_reg, \"validation\")]\n",
    "n = 100\n",
    "\n",
    "#create the xgboost model\n",
    "model = xgb.train(\n",
    "   params=params, #what are the hyperparameters involved?\n",
    "   dtrain=btrain_reg, #what's the training data? (Regression Matrices)\n",
    "   num_boost_round=n, #maximum rounds to train\n",
    "    evals=evals, #evals to be done\n",
    "    verbose_eval=5, #after every 5 rounds\n",
    "    early_stopping_rounds=10, # Stop if validation metric does not improve for 10 rounds\n",
    ")\n",
    "\n"
   ]
  },
  {
   "cell_type": "code",
   "execution_count": 11,
   "id": "33089634",
   "metadata": {
    "execution": {
     "iopub.execute_input": "2025-02-18T21:31:58.547071Z",
     "iopub.status.busy": "2025-02-18T21:31:58.546778Z",
     "iopub.status.idle": "2025-02-18T21:31:58.551270Z",
     "shell.execute_reply": "2025-02-18T21:31:58.550444Z"
    },
    "papermill": {
     "duration": 0.01101,
     "end_time": "2025-02-18T21:31:58.552442",
     "exception": false,
     "start_time": "2025-02-18T21:31:58.541432",
     "status": "completed"
    },
    "tags": []
   },
   "outputs": [
    {
     "data": {
      "text/plain": [
       "<xgboost.core.Booster at 0x789ba54d4e80>"
      ]
     },
     "execution_count": 11,
     "metadata": {},
     "output_type": "execute_result"
    }
   ],
   "source": [
    "model"
   ]
  },
  {
   "cell_type": "code",
   "execution_count": 12,
   "id": "01318b0b",
   "metadata": {
    "execution": {
     "iopub.execute_input": "2025-02-18T21:31:58.561658Z",
     "iopub.status.busy": "2025-02-18T21:31:58.561449Z",
     "iopub.status.idle": "2025-02-18T21:31:58.822946Z",
     "shell.execute_reply": "2025-02-18T21:31:58.822099Z"
    },
    "papermill": {
     "duration": 0.267861,
     "end_time": "2025-02-18T21:31:58.824414",
     "exception": false,
     "start_time": "2025-02-18T21:31:58.556553",
     "status": "completed"
    },
    "tags": []
   },
   "outputs": [
    {
     "name": "stdout",
     "output_type": "stream",
     "text": [
      "Feature importance by weight:\n",
      "{'Brand': 316.0, 'Material': 223.0, 'Size': 204.0, 'Compartments': 345.0, 'Laptop Compartment': 120.0, 'Waterproof': 128.0, 'Style': 215.0, 'Color': 341.0, 'Weight Capacity (kg)': 672.0}\n"
     ]
    },
    {
     "data": {
      "image/png": "[encoded data removed]",
      "text/plain": [
       "<Figure size 640x480 with 1 Axes>"
      ]
     },
     "metadata": {},
     "output_type": "display_data"
    }
   ],
   "source": [
    "# Get feature importance\n",
    "importance = model.get_score(importance_type='weight')\n",
    "print(\"Feature importance by weight:\")\n",
    "print(importance)\n",
    "\n",
    "# Plot feature importance\n",
    "import matplotlib.pyplot as plt\n",
    "xgb.plot_importance(model)\n",
    "plt.show()"
   ]
  },
  {
   "cell_type": "code",
   "execution_count": 13,
   "id": "5d665368",
   "metadata": {
    "execution": {
     "iopub.execute_input": "2025-02-18T21:31:58.838958Z",
     "iopub.status.busy": "2025-02-18T21:31:58.838585Z",
     "iopub.status.idle": "2025-02-18T21:31:58.855462Z",
     "shell.execute_reply": "2025-02-18T21:31:58.854682Z"
    },
    "papermill": {
     "duration": 0.025848,
     "end_time": "2025-02-18T21:31:58.856757",
     "exception": false,
     "start_time": "2025-02-18T21:31:58.830909",
     "status": "completed"
    },
    "tags": []
   },
   "outputs": [
    {
     "name": "stdout",
     "output_type": "stream",
     "text": [
      "RMSE of the base model: 39.033\n"
     ]
    }
   ],
   "source": [
    "## Testing\n",
    "\n",
    "from sklearn.metrics import mean_squared_error\n",
    "\n",
    "preds = model.predict(btest_reg)\n",
    "\n",
    "\n",
    "rmse = mean_squared_error(y_test, preds, squared=False)\n",
    "\n",
    "print(f\"RMSE of the base model: {rmse:.3f}\")\n",
    "\n"
   ]
  },
  {
   "cell_type": "code",
   "execution_count": 14,
   "id": "ec66cbfe",
   "metadata": {
    "execution": {
     "iopub.execute_input": "2025-02-18T21:31:58.867761Z",
     "iopub.status.busy": "2025-02-18T21:31:58.867518Z",
     "iopub.status.idle": "2025-02-18T21:31:58.871816Z",
     "shell.execute_reply": "2025-02-18T21:31:58.870890Z"
    },
    "papermill": {
     "duration": 0.010937,
     "end_time": "2025-02-18T21:31:58.872987",
     "exception": false,
     "start_time": "2025-02-18T21:31:58.862050",
     "status": "completed"
    },
    "tags": []
   },
   "outputs": [
    {
     "name": "stdout",
     "output_type": "stream",
     "text": [
      "[84.04274  79.95741  81.224884 ... 80.98525  85.461365 80.98911 ]\n",
      "[[ 31.78088]\n",
      " [150.     ]\n",
      " [144.69007]\n",
      " ...\n",
      " [ 82.56549]\n",
      " [ 27.40082]\n",
      " [148.89493]]\n"
     ]
    }
   ],
   "source": [
    "print(preds)\n",
    "print(y_test)"
   ]
  },
  {
   "cell_type": "code",
   "execution_count": null,
   "id": "6d069e12",
   "metadata": {
    "papermill": {
     "duration": 0.004763,
     "end_time": "2025-02-18T21:31:58.882864",
     "exception": false,
     "start_time": "2025-02-18T21:31:58.878101",
     "status": "completed"
    },
    "tags": []
   },
   "outputs": [],
   "source": []
  }
 ],
 "metadata": {
  "kaggle": {
   "accelerator": "gpu",
   "dataSources": [
    {
     "databundleVersionId": 10995111,
     "sourceId": 90274,
     "sourceType": "competition"
    }
   ],
   "dockerImageVersionId": 30887,
   "isGpuEnabled": true,
   "isInternetEnabled": true,
   "language": "python",
   "sourceType": "notebook"
  },
  "kernelspec": {
   "display_name": "Python 3",
   "language": "python",
   "name": "python3"
  },
  "language_info": {
   "codemirror_mode": {
    "name": "ipython",
    "version": 3
   },
   "file_extension": ".py",
   "mimetype": "text/x-python",
   "name": "python",
   "nbconvert_exporter": "python",
   "pygments_lexer": "ipython3",
   "version": "3.10.12"
  },
  "papermill": {
   "default_parameters": {},
   "duration": 7.759414,
   "end_time": "2025-02-18T21:31:59.404869",
   "environment_variables": {},
   "exception": null,
   "input_path": "__notebook__.ipynb",
   "output_path": "__notebook__.ipynb",
   "parameters": {},
   "start_time": "2025-02-18T21:31:51.645455",
   "version": "2.6.0"
  }
 },
 "nbformat": 4,
 "nbformat_minor": 5
}
